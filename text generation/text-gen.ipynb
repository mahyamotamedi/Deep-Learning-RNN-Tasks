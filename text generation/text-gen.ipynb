{
  "nbformat": 4,
  "nbformat_minor": 0,
  "metadata": {
    "colab": {
      "name": "MP2_Q2.ipynb",
      "provenance": [],
      "collapsed_sections": []
    },
    "kernelspec": {
      "name": "python3",
      "display_name": "Python 3"
    },
    "language_info": {
      "name": "python"
    },
    "accelerator": "GPU"
  },
  "cells": [
    {
      "cell_type": "code",
      "execution_count": null,
      "metadata": {
        "id": "KnPABVQ2Xyks"
      },
      "outputs": [],
      "source": [
        "import numpy\n",
        "import os\n",
        "import pandas as pd\n",
        "import tensorflow as tf\n",
        "from keras.layers import LSTM\n",
        "from keras.layers import Embedding\n",
        "from keras.models import Sequential\n",
        "from keras.layers import Dense\n",
        "from keras.layers import Dropout\n",
        "from keras.layers import GRU\n",
        "from keras.callbacks import ModelCheckpoint\n",
        "from keras.utils import np_utils\n",
        "import matplotlib.pyplot as plt\n",
        "import time"
      ]
    },
    {
      "cell_type": "code",
      "source": [
        ""
      ],
      "metadata": {
        "id": "FDypNmLCG1Rb"
      },
      "execution_count": null,
      "outputs": []
    },
    {
      "cell_type": "code",
      "source": [
        "text = open('dataset.txt', 'rb').read().decode(encoding='utf-8')\n",
        "text = text.lower()\n",
        "print(f'Length of text: {len(text)} characters')"
      ],
      "metadata": {
        "colab": {
          "base_uri": "https://localhost:8080/"
        },
        "id": "8fbj_NFyP7QX",
        "outputId": "6e202706-b220-443b-ffa5-ac40840c1f34"
      },
      "execution_count": null,
      "outputs": [
        {
          "output_type": "stream",
          "name": "stdout",
          "text": [
            "Length of text: 1107542 characters\n"
          ]
        }
      ]
    },
    {
      "cell_type": "code",
      "source": [
        "print(text[:500])"
      ],
      "metadata": {
        "colab": {
          "base_uri": "https://localhost:8080/"
        },
        "id": "InjCWnCoo8zk",
        "outputId": "886fc37e-257e-4298-ad5a-ec4fef163eac"
      },
      "execution_count": null,
      "outputs": [
        {
          "output_type": "stream",
          "name": "stdout",
          "text": [
            "harry potter and the goblet of fire\n",
            "\n",
            "chapter one - the riddle house\n",
            "\n",
            "\tthe villagers of little hangleron still called it \"the riddle house,\" even though it had been many years since the riddle family had lived there.  it stood on a hill overlooking the village, some of its windows boarded, tiles missing from its roof, and ivy spreading unchecked over its face.  once a fine-looking manor, and easily the largest and grandest building for miles around, the riddle house was now damp, derelict, and un\n"
          ]
        }
      ]
    },
    {
      "cell_type": "code",
      "source": [
        "vocab = sorted(set(text))\n",
        "print(f'{len(vocab)} unique characters')"
      ],
      "metadata": {
        "colab": {
          "base_uri": "https://localhost:8080/"
        },
        "id": "c-yfm111qIgX",
        "outputId": "ede6bef3-9d9b-4d5a-c9c0-8b92dd5269f8"
      },
      "execution_count": null,
      "outputs": [
        {
          "output_type": "stream",
          "name": "stdout",
          "text": [
            "54 unique characters\n"
          ]
        }
      ]
    },
    {
      "cell_type": "markdown",
      "source": [
        "# Text operation functions"
      ],
      "metadata": {
        "id": "HMPsTJ9xwi8Q"
      }
    },
    {
      "cell_type": "code",
      "source": [
        "ids_from_chars = tf.keras.layers.StringLookup(\n",
        "    vocabulary=list(vocab), mask_token=None)"
      ],
      "metadata": {
        "id": "6A49xASOnqBk"
      },
      "execution_count": null,
      "outputs": []
    },
    {
      "cell_type": "code",
      "source": [
        "chars_from_ids = tf.keras.layers.StringLookup(\n",
        "    vocabulary=ids_from_chars.get_vocabulary(), invert=True, mask_token=None)"
      ],
      "metadata": {
        "id": "7nOOQ_DosBaB"
      },
      "execution_count": null,
      "outputs": []
    },
    {
      "cell_type": "code",
      "source": [
        "def text_from_ids(ids):\n",
        "  return tf.strings.reduce_join(chars_from_ids(ids), axis=-1)"
      ],
      "metadata": {
        "id": "GlVwVW64whG_"
      },
      "execution_count": null,
      "outputs": []
    },
    {
      "cell_type": "code",
      "source": [
        "all_ids = ids_from_chars(tf.strings.unicode_split(text, 'UTF-8'))\n",
        "all_ids"
      ],
      "metadata": {
        "colab": {
          "base_uri": "https://localhost:8080/"
        },
        "id": "HcYZ1omlqo5y",
        "outputId": "06616c98-54af-445d-87d6-d968bf4e8eed"
      },
      "execution_count": null,
      "outputs": [
        {
          "output_type": "execute_result",
          "data": {
            "text/plain": [
              "<tf.Tensor: shape=(1107542,), dtype=int64, numpy=array([33, 26, 43, ..., 29, 11,  2])>"
            ]
          },
          "metadata": {},
          "execution_count": 71
        }
      ]
    },
    {
      "cell_type": "code",
      "source": [
        "ids_dataset = tf.data.Dataset.from_tensor_slices(all_ids)"
      ],
      "metadata": {
        "id": "yj9uqiDPqtfq"
      },
      "execution_count": null,
      "outputs": []
    },
    {
      "cell_type": "code",
      "source": [
        "for ids in ids_dataset.take(12):\n",
        "    print(chars_from_ids(ids).numpy().decode('utf-8'))"
      ],
      "metadata": {
        "colab": {
          "base_uri": "https://localhost:8080/"
        },
        "id": "m37cx1bUsFSW",
        "outputId": "2edc393b-5c17-4030-a672-4c46966e5af7"
      },
      "execution_count": null,
      "outputs": [
        {
          "output_type": "stream",
          "name": "stdout",
          "text": [
            "h\n",
            "a\n",
            "r\n",
            "r\n",
            "y\n",
            " \n",
            "p\n",
            "o\n",
            "t\n",
            "t\n",
            "e\n",
            "r\n"
          ]
        }
      ]
    },
    {
      "cell_type": "markdown",
      "source": [
        "# Creating dataset"
      ],
      "metadata": {
        "id": "ptaCNZQ84_1w"
      }
    },
    {
      "cell_type": "code",
      "source": [
        "seq_length = 100\n",
        "sequences = ids_dataset.batch(seq_length+1, drop_remainder=True)"
      ],
      "metadata": {
        "id": "cWyHtvUUsN4m"
      },
      "execution_count": null,
      "outputs": []
    },
    {
      "cell_type": "code",
      "source": [
        "for seq in sequences.take(5):\n",
        "  print(text_from_ids(seq).numpy())"
      ],
      "metadata": {
        "colab": {
          "base_uri": "https://localhost:8080/"
        },
        "id": "B5yaqKcq2_aG",
        "outputId": "0eba483f-20ca-439b-ac79-8769cc22aa34"
      },
      "execution_count": null,
      "outputs": [
        {
          "output_type": "stream",
          "name": "stdout",
          "text": [
            "b'harry potter and the goblet of fire\\n\\nchapter one - the riddle house\\n\\n\\tthe villagers of little hangler'\n",
            "b'on still called it \"the riddle house,\" even though it had been many years since the riddle family had'\n",
            "b' lived there.  it stood on a hill overlooking the village, some of its windows boarded, tiles missing'\n",
            "b' from its roof, and ivy spreading unchecked over its face.  once a fine-looking manor, and easily the'\n",
            "b' largest and grandest building for miles around, the riddle house was now damp, derelict, and unoccup'\n"
          ]
        }
      ]
    },
    {
      "cell_type": "code",
      "source": [
        "def split_input_target(sequence):\n",
        "    input_text = sequence[:-1]\n",
        "    target_text = sequence[1:]\n",
        "    return input_text, target_text"
      ],
      "metadata": {
        "id": "WTYD5b7w3K_M"
      },
      "execution_count": null,
      "outputs": []
    },
    {
      "cell_type": "code",
      "source": [
        "dataset = sequences.map(split_input_target)\n",
        "for input_example, target_example in dataset.take(1):\n",
        "    print(\"Input :\", text_from_ids(input_example).numpy())\n",
        "    print(\"Target:\", text_from_ids(target_example).numpy())"
      ],
      "metadata": {
        "colab": {
          "base_uri": "https://localhost:8080/"
        },
        "id": "tlOKdJhl3W21",
        "outputId": "1dfdd09a-a967-4c95-84b9-483385314812"
      },
      "execution_count": null,
      "outputs": [
        {
          "output_type": "stream",
          "name": "stdout",
          "text": [
            "Input : b'harry potter and the goblet of fire\\n\\nchapter one - the riddle house\\n\\n\\tthe villagers of little hangle'\n",
            "Target: b'arry potter and the goblet of fire\\n\\nchapter one - the riddle house\\n\\n\\tthe villagers of little hangler'\n"
          ]
        }
      ]
    },
    {
      "cell_type": "markdown",
      "source": [
        "#Creating Batches"
      ],
      "metadata": {
        "id": "6D8WDCCe5ERH"
      }
    },
    {
      "cell_type": "code",
      "source": [
        "\n",
        "BATCH_SIZE = 64\n",
        "\n",
        "BUFFER_SIZE = 10000\n",
        "\n",
        "dataset = (\n",
        "    dataset\n",
        "    .shuffle(BUFFER_SIZE)\n",
        "    .batch(BATCH_SIZE, drop_remainder=True)\n",
        "    .prefetch(tf.data.experimental.AUTOTUNE))\n",
        "\n",
        "dataset"
      ],
      "metadata": {
        "colab": {
          "base_uri": "https://localhost:8080/"
        },
        "id": "g-Y2bMxm5DI2",
        "outputId": "52e22bac-5e2a-47fd-cf99-6d0459403df0"
      },
      "execution_count": null,
      "outputs": [
        {
          "output_type": "execute_result",
          "data": {
            "text/plain": [
              "<PrefetchDataset element_spec=(TensorSpec(shape=(64, 100), dtype=tf.int64, name=None), TensorSpec(shape=(64, 100), dtype=tf.int64, name=None))>"
            ]
          },
          "metadata": {},
          "execution_count": 78
        }
      ]
    },
    {
      "cell_type": "code",
      "source": [
        "# Length of the vocabulary in StringLookup Layer\n",
        "vocab_size = len(ids_from_chars.get_vocabulary())\n",
        "\n",
        "# The embedding dimension\n",
        "embedding_dim = 256\n",
        "\n",
        "# Number of RNN units\n",
        "rnn_units = 1024"
      ],
      "metadata": {
        "id": "wn_NfqRWVNdb"
      },
      "execution_count": null,
      "outputs": []
    },
    {
      "cell_type": "code",
      "source": [
        ""
      ],
      "metadata": {
        "id": "cPnJgiOPmViM"
      },
      "execution_count": null,
      "outputs": []
    },
    {
      "cell_type": "code",
      "source": [
        "class Model(tf.keras.Model):\n",
        "  def __init__(self, vocab_size, embedding_dim, rnn_units):\n",
        "    super().__init__(self)\n",
        "    self.embedding = Embedding(vocab_size, embedding_dim)\n",
        "    self.lstm = GRU(rnn_units, return_sequences=True, return_state=True)\n",
        "    self.dense = Dense(vocab_size)\n",
        "    self.dense2 = Dense(1, activation = 'softmax')\n",
        "\n",
        "  def call(self, inputs, states=None, return_state=False, training=False):\n",
        "    x = inputs\n",
        "    x = self.embedding(x, training=training)\n",
        "    if states is None:\n",
        "      states = self.lstm.get_initial_state(x)\n",
        "    x, states = self.lstm(x, initial_state=states, training=training)\n",
        "    x = self.dense(x, training=training)\n",
        "    \n",
        "    if return_state:\n",
        "      return x, states\n",
        "    else:\n",
        "      return x"
      ],
      "metadata": {
        "id": "3GsLWqafapbB"
      },
      "execution_count": null,
      "outputs": []
    },
    {
      "cell_type": "code",
      "source": [
        "model1 = Model(\n",
        "    vocab_size=vocab_size,\n",
        "    embedding_dim=embedding_dim,\n",
        "    rnn_units=rnn_units)"
      ],
      "metadata": {
        "id": "4unR0jr2YnS5"
      },
      "execution_count": null,
      "outputs": []
    },
    {
      "cell_type": "code",
      "source": [
        "loss = tf.losses.SparseCategoricalCrossentropy(from_logits=True)\n",
        "model1.compile(optimizer='adam', loss=loss, metrics = 'accuracy')\n"
      ],
      "metadata": {
        "id": "sQ-pWpmVc0JV"
      },
      "execution_count": null,
      "outputs": []
    },
    {
      "cell_type": "code",
      "source": [
        "# Directory where the checkpoints will be saved\n",
        "checkpoint_dir = './training_checkpoints'\n",
        "# Name of the checkpoint files\n",
        "checkpoint_prefix = os.path.join(checkpoint_dir, \"ckpt_{epoch}\")\n",
        "\n",
        "checkpoint_callback = tf.keras.callbacks.ModelCheckpoint(\n",
        "    filepath=checkpoint_prefix,\n",
        "    save_weights_only=True)"
      ],
      "metadata": {
        "id": "XbUTCZj7dBZd"
      },
      "execution_count": null,
      "outputs": []
    },
    {
      "cell_type": "code",
      "source": [
        "trained_model1 = model1.fit(dataset, epochs=30 , callbacks=[checkpoint_callback])"
      ],
      "metadata": {
        "id": "vncvOCo4ddeJ",
        "colab": {
          "base_uri": "https://localhost:8080/"
        },
        "outputId": "d58f256b-5d76-4efc-b63f-9fb61ae137be"
      },
      "execution_count": null,
      "outputs": [
        {
          "output_type": "stream",
          "name": "stdout",
          "text": [
            "Epoch 1/30\n",
            "171/171 [==============================] - 16s 52ms/step - loss: 2.6092 - accuracy: 0.2871\n",
            "Epoch 2/30\n",
            "171/171 [==============================] - 10s 52ms/step - loss: 1.9231 - accuracy: 0.4328\n",
            "Epoch 3/30\n",
            "171/171 [==============================] - 10s 53ms/step - loss: 1.5789 - accuracy: 0.5268\n",
            "Epoch 4/30\n",
            "171/171 [==============================] - 10s 54ms/step - loss: 1.3902 - accuracy: 0.5786\n",
            "Epoch 5/30\n",
            "171/171 [==============================] - 10s 54ms/step - loss: 1.2818 - accuracy: 0.6064\n",
            "Epoch 6/30\n",
            "171/171 [==============================] - 10s 55ms/step - loss: 1.2090 - accuracy: 0.6255\n",
            "Epoch 7/30\n",
            "171/171 [==============================] - 10s 54ms/step - loss: 1.1521 - accuracy: 0.6404\n",
            "Epoch 8/30\n",
            "171/171 [==============================] - 10s 52ms/step - loss: 1.1047 - accuracy: 0.6531\n",
            "Epoch 9/30\n",
            "171/171 [==============================] - 10s 53ms/step - loss: 1.0609 - accuracy: 0.6651\n",
            "Epoch 10/30\n",
            "171/171 [==============================] - 10s 54ms/step - loss: 1.0195 - accuracy: 0.6771\n",
            "Epoch 11/30\n",
            "171/171 [==============================] - 10s 54ms/step - loss: 0.9764 - accuracy: 0.6892\n",
            "Epoch 12/30\n",
            "171/171 [==============================] - 10s 54ms/step - loss: 0.9333 - accuracy: 0.7021\n",
            "Epoch 13/30\n",
            "171/171 [==============================] - 10s 54ms/step - loss: 0.8894 - accuracy: 0.7155\n",
            "Epoch 14/30\n",
            "171/171 [==============================] - 10s 53ms/step - loss: 0.8438 - accuracy: 0.7293\n",
            "Epoch 15/30\n",
            "171/171 [==============================] - 10s 53ms/step - loss: 0.7982 - accuracy: 0.7433\n",
            "Epoch 16/30\n",
            "171/171 [==============================] - 10s 54ms/step - loss: 0.7531 - accuracy: 0.7575\n",
            "Epoch 17/30\n",
            "171/171 [==============================] - 10s 55ms/step - loss: 0.7071 - accuracy: 0.7728\n",
            "Epoch 18/30\n",
            "171/171 [==============================] - 10s 54ms/step - loss: 0.6643 - accuracy: 0.7854\n",
            "Epoch 19/30\n",
            "171/171 [==============================] - 10s 54ms/step - loss: 0.6267 - accuracy: 0.7979\n",
            "Epoch 20/30\n",
            "171/171 [==============================] - 10s 54ms/step - loss: 0.5904 - accuracy: 0.8098\n",
            "Epoch 21/30\n",
            "171/171 [==============================] - 10s 53ms/step - loss: 0.5583 - accuracy: 0.8198\n",
            "Epoch 22/30\n",
            "171/171 [==============================] - 10s 54ms/step - loss: 0.5349 - accuracy: 0.8265\n",
            "Epoch 23/30\n",
            "171/171 [==============================] - 10s 55ms/step - loss: 0.5113 - accuracy: 0.8340\n",
            "Epoch 24/30\n",
            "171/171 [==============================] - 10s 55ms/step - loss: 0.4912 - accuracy: 0.8405\n",
            "Epoch 25/30\n",
            "171/171 [==============================] - 10s 55ms/step - loss: 0.4800 - accuracy: 0.8433\n",
            "Epoch 26/30\n",
            "171/171 [==============================] - 10s 54ms/step - loss: 0.4662 - accuracy: 0.8471\n",
            "Epoch 27/30\n",
            "171/171 [==============================] - 10s 53ms/step - loss: 0.4534 - accuracy: 0.8508\n",
            "Epoch 28/30\n",
            "171/171 [==============================] - 10s 53ms/step - loss: 0.4446 - accuracy: 0.8531\n",
            "Epoch 29/30\n",
            "171/171 [==============================] - 10s 53ms/step - loss: 0.4381 - accuracy: 0.8548\n",
            "Epoch 30/30\n",
            "171/171 [==============================] - 10s 54ms/step - loss: 0.4363 - accuracy: 0.8545\n"
          ]
        }
      ]
    },
    {
      "cell_type": "code",
      "source": [
        "fig_Loss = plt.figure(figsize=(10, 10))\n",
        "plt.plot(trained_model1.history['loss'])\n",
        "plt.ylabel(\"Loss\")\n",
        "plt.xlabel(\"Epoch\")\n",
        "plt.legend([\"Train Loss\"])\n",
        "plt.show()\n",
        "#fig_Loss.savefig(\"Loss_Model.png\")"
      ],
      "metadata": {
        "colab": {
          "base_uri": "https://localhost:8080/",
          "height": 606
        },
        "id": "E2Pfs8g6HCLO",
        "outputId": "e98c5170-9858-419a-ef84-e6189709c38b"
      },
      "execution_count": null,
      "outputs": [
        {
          "output_type": "display_data",
          "data": {
            "text/plain": [
              "<Figure size 720x720 with 1 Axes>"
            ],
            "image/png": "[encoded data removed]"
          },
          "metadata": {
            "needs_background": "light"
          }
        }
      ]
    },
    {
      "cell_type": "code",
      "source": [
        "fig_Loss = plt.figure(figsize=(10, 10))\n",
        "plt.plot(trained_model1.history['accuracy'])\n",
        "plt.ylabel(\"accuracy\")\n",
        "plt.xlabel(\"Epoch\")\n",
        "plt.legend([\"Train accuracy\"])\n",
        "plt.show()\n"
      ],
      "metadata": {
        "colab": {
          "base_uri": "https://localhost:8080/",
          "height": 606
        },
        "id": "EKXRDv_tJlzO",
        "outputId": "3f8bae51-90dd-425e-cfd4-5daa8daf1876"
      },
      "execution_count": null,
      "outputs": [
        {
          "output_type": "display_data",
          "data": {
            "text/plain": [
              "<Figure size 720x720 with 1 Axes>"
            ],
            "image/png": "[encoded data removed]"
          },
          "metadata": {
            "needs_background": "light"
          }
        }
      ]
    },
    {
      "cell_type": "code",
      "source": [
        ""
      ],
      "metadata": {
        "id": "glTsxK0ekgBF"
      },
      "execution_count": null,
      "outputs": []
    },
    {
      "cell_type": "code",
      "source": [
        "class OneStep(tf.keras.Model):\n",
        "  def __init__(self, model, chars_from_ids, ids_from_chars, temperature=1.0):\n",
        "    super().__init__()\n",
        "    self.temperature = temperature\n",
        "    self.model = model\n",
        "    self.chars_from_ids = chars_from_ids\n",
        "    self.ids_from_chars = ids_from_chars\n",
        "\n",
        "    skip_ids = self.ids_from_chars(['[UNK]'])[:, None]\n",
        "    sparse_mask = tf.SparseTensor( values=[-float('inf')]*len(skip_ids), indices=skip_ids, dense_shape=[len(ids_from_chars.get_vocabulary())])\n",
        "    self.prediction_mask = tf.sparse.to_dense(sparse_mask)\n",
        "\n",
        "  @tf.function\n",
        "  def generate_one_step(self, inputs, states=None):\n",
        "\n",
        "    input_chars = tf.strings.unicode_split(inputs, 'UTF-8')\n",
        "    input_ids = self.ids_from_chars(input_chars).to_tensor()\n",
        "\n",
        "    predicted_logits, states = self.model(inputs=input_ids, states=states,  return_state=True)\n",
        "    predicted_logits = predicted_logits[:, -1, :]\n",
        "    predicted_logits = predicted_logits/self.temperature\n",
        "    predicted_logits = predicted_logits + self.prediction_mask\n",
        "\n",
        "    predicted_ids = tf.random.categorical(predicted_logits, num_samples=1)\n",
        "    predicted_ids = tf.squeeze(predicted_ids, axis=-1)\n",
        "    predicted_chars = self.chars_from_ids(predicted_ids)\n",
        "    return predicted_chars, states"
      ],
      "metadata": {
        "id": "dnZ-CRQohjs-"
      },
      "execution_count": null,
      "outputs": []
    },
    {
      "cell_type": "code",
      "source": [
        "one_step_model = OneStep(model1, chars_from_ids, ids_from_chars)"
      ],
      "metadata": {
        "id": "EEKN1M4bxcVZ"
      },
      "execution_count": null,
      "outputs": []
    },
    {
      "cell_type": "code",
      "source": [
        "start = time.time()\n",
        "states = None\n",
        "next_char = tf.constant(['harry'])\n",
        "result = [next_char]\n",
        "\n",
        "for n in range(200):\n",
        "  next_char, states = one_step_model.generate_one_step(next_char, states=states)\n",
        "  result.append(next_char)\n",
        "\n",
        "result = tf.strings.join(result)\n",
        "end = time.time()print(result[0].numpy().decode('utf-8'), '\\n\\n' + '_'*80)\n",
        "print('\\nRun time:', end - start)"
      ],
      "metadata": {
        "colab": {
          "base_uri": "https://localhost:8080/"
        },
        "id": "nOloLiiUxcaz",
        "outputId": "6648074a-d469-424f-bf06-73c384e7916c"
      },
      "execution_count": null,
      "outputs": [
        {
          "output_type": "stream",
          "name": "stdout",
          "text": [
            "harry savage quickly and the others, writes rita skeeter as we appeared to be a dementor, quite as usual.  he was still gazing at the entrance hall, with her teary again unlikely than the boy 'bottee that  \n",
            "\n",
            "________________________________________________________________________________\n",
            "\n",
            "Run time: 1.2556376457214355\n"
          ]
        }
      ]
    },
    {
      "cell_type": "markdown",
      "source": [
        "# Loss function"
      ],
      "metadata": {
        "id": "n8yumMqlPjlX"
      }
    },
    {
      "cell_type": "code",
      "source": [
        "\"\"\"model2 = Model(\n",
        "    vocab_size=vocab_size,\n",
        "    embedding_dim=embedding_dim,\n",
        "    rnn_units=rnn_units)\"\"\""
      ],
      "metadata": {
        "id": "UKFZ5bwmo0yC",
        "colab": {
          "base_uri": "https://localhost:8080/",
          "height": 36
        },
        "outputId": "c284e590-f494-41fa-ef5f-930603bd182c"
      },
      "execution_count": null,
      "outputs": [
        {
          "output_type": "execute_result",
          "data": {
            "text/plain": [
              "'model2 = Model(\\n    vocab_size=vocab_size,\\n    embedding_dim=embedding_dim,\\n    rnn_units=rnn_units)'"
            ],
            "application/vnd.google.colaboratory.intrinsic+json": {
              "type": "string"
            }
          },
          "metadata": {},
          "execution_count": 90
        }
      ]
    },
    {
      "cell_type": "code",
      "source": [
        "\"\"\"loss =  tf.keras.losses.KLDivergence()\n",
        "model2.compile(optimizer='adam', loss=loss, metrics = 'accuracy')\"\"\""
      ],
      "metadata": {
        "id": "ycfwevjQJv1M",
        "colab": {
          "base_uri": "https://localhost:8080/",
          "height": 36
        },
        "outputId": "0d77063e-a8f8-42f5-c3fb-68df44d3d10a"
      },
      "execution_count": null,
      "outputs": [
        {
          "output_type": "execute_result",
          "data": {
            "text/plain": [
              "\"loss =  tf.keras.losses.KLDivergence()\\nmodel2.compile(optimizer='adam', loss=loss, metrics = 'accuracy')\""
            ],
            "application/vnd.google.colaboratory.intrinsic+json": {
              "type": "string"
            }
          },
          "metadata": {},
          "execution_count": 91
        }
      ]
    },
    {
      "cell_type": "code",
      "source": [
        "\"\"\"history2 = model2.fit(dataset, epochs=2 , callbacks=[checkpoint_callback])\"\"\""
      ],
      "metadata": {
        "colab": {
          "base_uri": "https://localhost:8080/",
          "height": 36
        },
        "id": "aqhGI0u7tbZi",
        "outputId": "ada26c1b-9763-4f36-b706-f6019139ee53"
      },
      "execution_count": null,
      "outputs": [
        {
          "output_type": "execute_result",
          "data": {
            "text/plain": [
              "'history2 = model2.fit(dataset, epochs=2 , callbacks=[checkpoint_callback])'"
            ],
            "application/vnd.google.colaboratory.intrinsic+json": {
              "type": "string"
            }
          },
          "metadata": {},
          "execution_count": 92
        }
      ]
    },
    {
      "cell_type": "markdown",
      "source": [
        "#epochs"
      ],
      "metadata": {
        "id": "OWqL0-r75aOF"
      }
    },
    {
      "cell_type": "code",
      "source": [
        "model4 = Model(vocab_size=vocab_size, embedding_dim=embedding_dim, rnn_units=rnn_units)"
      ],
      "metadata": {
        "id": "UbnQxkYa5Y-Y"
      },
      "execution_count": null,
      "outputs": []
    },
    {
      "cell_type": "code",
      "source": [
        "loss = tf.losses.SparseCategoricalCrossentropy(from_logits=True)\n",
        "model4.compile(optimizer='adam', loss=loss, metrics = 'accuracy')\n",
        "trained_model4 = model4.fit(dataset, epochs=60 , callbacks=[checkpoint_callback])"
      ],
      "metadata": {
        "id": "EEu1Yh9f50bj",
        "colab": {
          "base_uri": "https://localhost:8080/"
        },
        "outputId": "15cc4fd6-2767-4a73-c8ad-556564b8ce86"
      },
      "execution_count": null,
      "outputs": [
        {
          "output_type": "stream",
          "name": "stdout",
          "text": [
            "Epoch 1/60\n",
            "171/171 [==============================] - 12s 55ms/step - loss: 2.5957 - accuracy: 0.2886\n",
            "Epoch 2/60\n",
            "171/171 [==============================] - 10s 53ms/step - loss: 1.9112 - accuracy: 0.4366\n",
            "Epoch 3/60\n",
            "171/171 [==============================] - 10s 54ms/step - loss: 1.5715 - accuracy: 0.5285\n",
            "Epoch 4/60\n",
            "171/171 [==============================] - 10s 54ms/step - loss: 1.3824 - accuracy: 0.5792\n",
            "Epoch 5/60\n",
            "171/171 [==============================] - 10s 54ms/step - loss: 1.2762 - accuracy: 0.6076\n",
            "Epoch 6/60\n",
            "171/171 [==============================] - 10s 54ms/step - loss: 1.2060 - accuracy: 0.6263\n",
            "Epoch 7/60\n",
            "171/171 [==============================] - 10s 54ms/step - loss: 1.1508 - accuracy: 0.6407\n",
            "Epoch 8/60\n",
            "171/171 [==============================] - 10s 54ms/step - loss: 1.1033 - accuracy: 0.6536\n",
            "Epoch 9/60\n",
            "171/171 [==============================] - 10s 54ms/step - loss: 1.0595 - accuracy: 0.6653\n",
            "Epoch 10/60\n",
            "171/171 [==============================] - 10s 54ms/step - loss: 1.0169 - accuracy: 0.6776\n",
            "Epoch 11/60\n",
            "171/171 [==============================] - 10s 54ms/step - loss: 0.9755 - accuracy: 0.6894\n",
            "Epoch 12/60\n",
            "171/171 [==============================] - 10s 54ms/step - loss: 0.9313 - accuracy: 0.7024\n",
            "Epoch 13/60\n",
            "171/171 [==============================] - 10s 53ms/step - loss: 0.8870 - accuracy: 0.7155\n",
            "Epoch 14/60\n",
            "171/171 [==============================] - 10s 54ms/step - loss: 0.8412 - accuracy: 0.7299\n",
            "Epoch 15/60\n",
            "171/171 [==============================] - 10s 55ms/step - loss: 0.7957 - accuracy: 0.7440\n",
            "Epoch 16/60\n",
            "171/171 [==============================] - 11s 56ms/step - loss: 0.7481 - accuracy: 0.7589\n",
            "Epoch 17/60\n",
            "171/171 [==============================] - 10s 54ms/step - loss: 0.7031 - accuracy: 0.7738\n",
            "Epoch 18/60\n",
            "171/171 [==============================] - 10s 54ms/step - loss: 0.6604 - accuracy: 0.7874\n",
            "Epoch 19/60\n",
            "171/171 [==============================] - 10s 53ms/step - loss: 0.6215 - accuracy: 0.7997\n",
            "Epoch 20/60\n",
            "171/171 [==============================] - 10s 53ms/step - loss: 0.5866 - accuracy: 0.8114\n",
            "Epoch 21/60\n",
            "171/171 [==============================] - 10s 53ms/step - loss: 0.5564 - accuracy: 0.8203\n",
            "Epoch 22/60\n",
            "171/171 [==============================] - 10s 54ms/step - loss: 0.5308 - accuracy: 0.8281\n",
            "Epoch 23/60\n",
            "171/171 [==============================] - 10s 54ms/step - loss: 0.5082 - accuracy: 0.8351\n",
            "Epoch 24/60\n",
            "171/171 [==============================] - 10s 54ms/step - loss: 0.4897 - accuracy: 0.8406\n",
            "Epoch 25/60\n",
            "171/171 [==============================] - 10s 54ms/step - loss: 0.4754 - accuracy: 0.8450\n",
            "Epoch 26/60\n",
            "171/171 [==============================] - 10s 54ms/step - loss: 0.4655 - accuracy: 0.8477\n",
            "Epoch 27/60\n",
            "171/171 [==============================] - 10s 55ms/step - loss: 0.4542 - accuracy: 0.8503\n",
            "Epoch 28/60\n",
            "171/171 [==============================] - 10s 55ms/step - loss: 0.4445 - accuracy: 0.8533\n",
            "Epoch 29/60\n",
            "171/171 [==============================] - 10s 54ms/step - loss: 0.4383 - accuracy: 0.8546\n",
            "Epoch 30/60\n",
            "171/171 [==============================] - 10s 54ms/step - loss: 0.4310 - accuracy: 0.8570\n",
            "Epoch 31/60\n",
            "171/171 [==============================] - 10s 53ms/step - loss: 0.4291 - accuracy: 0.8569\n",
            "Epoch 32/60\n",
            "171/171 [==============================] - 10s 54ms/step - loss: 0.4268 - accuracy: 0.8573\n",
            "Epoch 33/60\n",
            "171/171 [==============================] - 10s 55ms/step - loss: 0.4241 - accuracy: 0.8576\n",
            "Epoch 34/60\n",
            "171/171 [==============================] - 10s 53ms/step - loss: 0.4214 - accuracy: 0.8582\n",
            "Epoch 35/60\n",
            "171/171 [==============================] - 10s 54ms/step - loss: 0.4199 - accuracy: 0.8583\n",
            "Epoch 36/60\n",
            "171/171 [==============================] - 10s 54ms/step - loss: 0.4174 - accuracy: 0.8587\n",
            "Epoch 37/60\n",
            "171/171 [==============================] - 11s 55ms/step - loss: 0.4166 - accuracy: 0.8594\n",
            "Epoch 38/60\n",
            "171/171 [==============================] - 10s 54ms/step - loss: 0.4159 - accuracy: 0.8589\n",
            "Epoch 39/60\n",
            "171/171 [==============================] - 10s 54ms/step - loss: 0.4200 - accuracy: 0.8572\n",
            "Epoch 40/60\n",
            "171/171 [==============================] - 10s 54ms/step - loss: 0.4198 - accuracy: 0.8572\n",
            "Epoch 41/60\n",
            "171/171 [==============================] - 10s 54ms/step - loss: 0.4228 - accuracy: 0.8560\n",
            "Epoch 42/60\n",
            "171/171 [==============================] - 10s 53ms/step - loss: 0.4219 - accuracy: 0.8560\n",
            "Epoch 43/60\n",
            "171/171 [==============================] - 10s 54ms/step - loss: 0.4219 - accuracy: 0.8557\n",
            "Epoch 44/60\n",
            "171/171 [==============================] - 10s 54ms/step - loss: 0.4252 - accuracy: 0.8545\n",
            "Epoch 45/60\n",
            "171/171 [==============================] - 10s 55ms/step - loss: 0.4273 - accuracy: 0.8536\n",
            "Epoch 46/60\n",
            "171/171 [==============================] - 10s 55ms/step - loss: 0.4301 - accuracy: 0.8524\n",
            "Epoch 47/60\n",
            "171/171 [==============================] - 10s 54ms/step - loss: 0.4314 - accuracy: 0.8520\n",
            "Epoch 48/60\n",
            "171/171 [==============================] - 10s 54ms/step - loss: 0.4354 - accuracy: 0.8503\n",
            "Epoch 49/60\n",
            "171/171 [==============================] - 10s 53ms/step - loss: 0.4433 - accuracy: 0.8477\n",
            "Epoch 50/60\n",
            "171/171 [==============================] - 10s 54ms/step - loss: 0.4443 - accuracy: 0.8472\n",
            "Epoch 51/60\n",
            "171/171 [==============================] - 10s 55ms/step - loss: 0.4446 - accuracy: 0.8471\n",
            "Epoch 52/60\n",
            "171/171 [==============================] - 10s 55ms/step - loss: 0.4492 - accuracy: 0.8453\n",
            "Epoch 53/60\n",
            "171/171 [==============================] - 10s 54ms/step - loss: 0.4515 - accuracy: 0.8445\n",
            "Epoch 54/60\n",
            "171/171 [==============================] - 10s 54ms/step - loss: 0.4561 - accuracy: 0.8432\n",
            "Epoch 55/60\n",
            "171/171 [==============================] - 10s 54ms/step - loss: 0.4591 - accuracy: 0.8415\n",
            "Epoch 56/60\n",
            "171/171 [==============================] - 10s 54ms/step - loss: 0.4725 - accuracy: 0.8371\n",
            "Epoch 57/60\n",
            "171/171 [==============================] - 10s 55ms/step - loss: 0.4700 - accuracy: 0.8384\n",
            "Epoch 58/60\n",
            "171/171 [==============================] - 10s 55ms/step - loss: 0.4716 - accuracy: 0.8377\n",
            "Epoch 59/60\n",
            "171/171 [==============================] - 10s 53ms/step - loss: 0.4776 - accuracy: 0.8358\n",
            "Epoch 60/60\n",
            "171/171 [==============================] - 10s 54ms/step - loss: 0.4842 - accuracy: 0.8333\n"
          ]
        }
      ]
    },
    {
      "cell_type": "code",
      "source": [
        "fig_Loss = plt.figure(figsize=(10, 10))\n",
        "plt.plot(trained_model4.history['loss'])\n",
        "plt.ylabel(\"Loss\")\n",
        "plt.xlabel(\"Epoch\")\n",
        "plt.legend([\"Train Loss\"])\n",
        "plt.show()\n",
        "#fig_Loss.savefig(\"Loss_Model.png\")"
      ],
      "metadata": {
        "id": "679EV1O36A1N",
        "colab": {
          "base_uri": "https://localhost:8080/",
          "height": 606
        },
        "outputId": "aca13a89-a9c1-420f-c71c-eb9e3e430fe8"
      },
      "execution_count": null,
      "outputs": [
        {
          "output_type": "display_data",
          "data": {
            "text/plain": [
              "<Figure size 720x720 with 1 Axes>"
            ],
            "image/png": "[encoded data removed]"
          },
          "metadata": {
            "needs_background": "light"
          }
        }
      ]
    },
    {
      "cell_type": "code",
      "source": [
        "fig_Loss = plt.figure(figsize=(10, 10))\n",
        "plt.plot(trained_model4.history['accuracy'])\n",
        "plt.ylabel(\"accuracy\")\n",
        "plt.xlabel(\"Epoch\")\n",
        "plt.legend([\"Train accuracy\"])\n",
        "plt.show()\n"
      ],
      "metadata": {
        "id": "96MTyDBR6RJb",
        "colab": {
          "base_uri": "https://localhost:8080/",
          "height": 606
        },
        "outputId": "7da34bc4-3b7b-423e-f5a1-8b44aff5f361"
      },
      "execution_count": null,
      "outputs": [
        {
          "output_type": "display_data",
          "data": {
            "text/plain": [
              "<Figure size 720x720 with 1 Axes>"
            ],
            "image/png": "[encoded data removed]"
          },
          "metadata": {
            "needs_background": "light"
          }
        }
      ]
    },
    {
      "cell_type": "code",
      "source": [
        "start = time.time()\n",
        "one_step_model4 = OneStep(model4, chars_from_ids, ids_from_chars)\n",
        "states = None\n",
        "next_char = tf.constant(['harry'])\n",
        "result = [next_char]\n",
        "\n",
        "for n in range(200):\n",
        "  next_char, states = one_step_model4.generate_one_step(next_char, states=states)\n",
        "  result.append(next_char)\n",
        "\n",
        "result = tf.strings.join(result)\n",
        "end = time.time()\n",
        "print(result[0].numpy().decode('utf-8'), '\\n\\n' + '_'*80)\n",
        "print('\\nRun time:', end - start)"
      ],
      "metadata": {
        "colab": {
          "base_uri": "https://localhost:8080/"
        },
        "id": "a_wSUOU8-GUz",
        "outputId": "569c4aa1-bdeb-4f71-abdb-b5fe9982698b"
      },
      "execution_count": null,
      "outputs": [
        {
          "output_type": "stream",
          "name": "stdout",
          "text": [
            "harry potter!\"\n",
            "dumbledore stood shrieked in out of the portrait hole.  perhaps she'd have said him until harry, ron, and hermione turred.\n",
            "\"well, it was you, lake, potter?  a few days ago - i want to give y \n",
            "\n",
            "________________________________________________________________________________\n",
            "\n",
            "Run time: 1.3043649196624756\n"
          ]
        }
      ]
    },
    {
      "cell_type": "markdown",
      "source": [
        "#optimzer"
      ],
      "metadata": {
        "id": "uAsd_FND6ZiR"
      }
    },
    {
      "cell_type": "code",
      "source": [
        "model5 = Model(vocab_size=vocab_size, embedding_dim=embedding_dim, rnn_units=rnn_units)\n",
        "loss = tf.losses.SparseCategoricalCrossentropy(from_logits=True)\n",
        "model5.compile(optimizer='SGD', loss=loss, metrics = 'accuracy')\n",
        "trained_model5 = model5.fit(dataset, epochs=30 , callbacks=[checkpoint_callback])"
      ],
      "metadata": {
        "id": "GBr_IDa46X26",
        "colab": {
          "base_uri": "https://localhost:8080/"
        },
        "outputId": "bec2f853-3aad-4c8b-ec31-d3b32179e2f2"
      },
      "execution_count": null,
      "outputs": [
        {
          "output_type": "stream",
          "name": "stdout",
          "text": [
            "Epoch 1/30\n",
            "171/171 [==============================] - 12s 51ms/step - loss: 3.8563 - accuracy: 0.1721\n",
            "Epoch 2/30\n",
            "171/171 [==============================] - 10s 52ms/step - loss: 3.5157 - accuracy: 0.1774\n",
            "Epoch 3/30\n",
            "171/171 [==============================] - 10s 53ms/step - loss: 3.2314 - accuracy: 0.1774\n",
            "Epoch 4/30\n",
            "171/171 [==============================] - 10s 53ms/step - loss: 3.1126 - accuracy: 0.1774\n",
            "Epoch 5/30\n",
            "171/171 [==============================] - 10s 52ms/step - loss: 3.0699 - accuracy: 0.1774\n",
            "Epoch 6/30\n",
            "171/171 [==============================] - 10s 52ms/step - loss: 3.0471 - accuracy: 0.1774\n",
            "Epoch 7/30\n",
            "171/171 [==============================] - 10s 51ms/step - loss: 3.0340 - accuracy: 0.1774\n",
            "Epoch 8/30\n",
            "171/171 [==============================] - 10s 51ms/step - loss: 3.0257 - accuracy: 0.1774\n",
            "Epoch 9/30\n",
            "171/171 [==============================] - 10s 52ms/step - loss: 3.0196 - accuracy: 0.1774\n",
            "Epoch 10/30\n",
            "171/171 [==============================] - 10s 52ms/step - loss: 3.0147 - accuracy: 0.1774\n",
            "Epoch 11/30\n",
            "171/171 [==============================] - 10s 52ms/step - loss: 3.0101 - accuracy: 0.1774\n",
            "Epoch 12/30\n",
            "171/171 [==============================] - 10s 52ms/step - loss: 3.0057 - accuracy: 0.1774\n",
            "Epoch 13/30\n",
            "171/171 [==============================] - 10s 52ms/step - loss: 3.0012 - accuracy: 0.1774\n",
            "Epoch 14/30\n",
            "171/171 [==============================] - 10s 52ms/step - loss: 2.9964 - accuracy: 0.1774\n",
            "Epoch 15/30\n",
            "171/171 [==============================] - 10s 52ms/step - loss: 2.9913 - accuracy: 0.1774\n",
            "Epoch 16/30\n",
            "171/171 [==============================] - 10s 52ms/step - loss: 2.9860 - accuracy: 0.1773\n",
            "Epoch 17/30\n",
            "171/171 [==============================] - 10s 52ms/step - loss: 2.9801 - accuracy: 0.1774\n",
            "Epoch 18/30\n",
            "171/171 [==============================] - 10s 52ms/step - loss: 2.9737 - accuracy: 0.1775\n",
            "Epoch 19/30\n",
            "171/171 [==============================] - 10s 52ms/step - loss: 2.9669 - accuracy: 0.1780\n",
            "Epoch 20/30\n",
            "171/171 [==============================] - 10s 52ms/step - loss: 2.9597 - accuracy: 0.1785\n",
            "Epoch 21/30\n",
            "171/171 [==============================] - 10s 52ms/step - loss: 2.9520 - accuracy: 0.1811\n",
            "Epoch 22/30\n",
            "171/171 [==============================] - 10s 52ms/step - loss: 2.9440 - accuracy: 0.1864\n",
            "Epoch 23/30\n",
            "171/171 [==============================] - 10s 52ms/step - loss: 2.9358 - accuracy: 0.1921\n",
            "Epoch 24/30\n",
            "171/171 [==============================] - 10s 52ms/step - loss: 2.9272 - accuracy: 0.1960\n",
            "Epoch 25/30\n",
            "171/171 [==============================] - 10s 52ms/step - loss: 2.9186 - accuracy: 0.1979\n",
            "Epoch 26/30\n",
            "171/171 [==============================] - 10s 53ms/step - loss: 2.9100 - accuracy: 0.2011\n",
            "Epoch 27/30\n",
            "171/171 [==============================] - 10s 53ms/step - loss: 2.9016 - accuracy: 0.2040\n",
            "Epoch 28/30\n",
            "171/171 [==============================] - 10s 53ms/step - loss: 2.8933 - accuracy: 0.2067\n",
            "Epoch 29/30\n",
            "171/171 [==============================] - 10s 53ms/step - loss: 2.8852 - accuracy: 0.2112\n",
            "Epoch 30/30\n",
            "171/171 [==============================] - 10s 53ms/step - loss: 2.8773 - accuracy: 0.2160\n"
          ]
        }
      ]
    },
    {
      "cell_type": "code",
      "source": [
        "fig_Loss = plt.figure(figsize=(10, 10))\n",
        "plt.plot(trained_model5.history['loss'])\n",
        "plt.ylabel(\"Loss\")\n",
        "plt.xlabel(\"Epoch\")\n",
        "plt.legend([\"Train Loss\"])\n",
        "plt.show()\n",
        "#fig_Loss.savefig(\"Loss_Model.png\")"
      ],
      "metadata": {
        "id": "Le5bdtSV6rPi",
        "colab": {
          "base_uri": "https://localhost:8080/",
          "height": 606
        },
        "outputId": "1dfa132c-cda2-4ebb-b852-665cb43f2113"
      },
      "execution_count": null,
      "outputs": [
        {
          "output_type": "display_data",
          "data": {
            "text/plain": [
              "<Figure size 720x720 with 1 Axes>"
            ],
            "image/png": "[encoded data removed]"
          },
          "metadata": {
            "needs_background": "light"
          }
        }
      ]
    },
    {
      "cell_type": "code",
      "source": [
        "fig_Loss = plt.figure(figsize=(10, 10))\n",
        "plt.plot(trained_model5.history['accuracy'])\n",
        "plt.ylabel(\"accuracy\")\n",
        "plt.xlabel(\"Epoch\")\n",
        "plt.legend([\"Train accuracy\"])\n",
        "plt.show()\n"
      ],
      "metadata": {
        "id": "5XgnfEkJ6vNs",
        "colab": {
          "base_uri": "https://localhost:8080/",
          "height": 606
        },
        "outputId": "16c64824-cf45-4205-d61e-2ceb6ed7ab56"
      },
      "execution_count": null,
      "outputs": [
        {
          "output_type": "display_data",
          "data": {
            "text/plain": [
              "<Figure size 720x720 with 1 Axes>"
            ],
            "image/png": "[encoded data removed]"
          },
          "metadata": {
            "needs_background": "light"
          }
        }
      ]
    },
    {
      "cell_type": "code",
      "source": [
        "start = time.time()\n",
        "one_step_model5 = OneStep(model5, chars_from_ids, ids_from_chars)\n",
        "states = None\n",
        "next_char = tf.constant(['harry'])\n",
        "result = [next_char]\n",
        "\n",
        "for n in range(200):\n",
        "  next_char, states = one_step_model5.generate_one_step(next_char, states=states)\n",
        "  result.append(next_char)\n",
        "\n",
        "result = tf.strings.join(result)\n",
        "end = time.time()\n",
        "print(result[0].numpy().decode('utf-8'), '\\n\\n' + '_'*80)\n",
        "print('\\nRun time:', end - start)"
      ],
      "metadata": {
        "colab": {
          "base_uri": "https://localhost:8080/"
        },
        "id": "wI_og94J-c-P",
        "outputId": "d62e7279-b5ab-4f14-ac87-fc0e607a7cdc"
      },
      "execution_count": null,
      "outputs": [
        {
          "output_type": "stream",
          "name": "stdout",
          "text": [
            "harry t gkwaonoep ,t retietd \"fvradu e oee q asd tcbynsttdi h s eo w .lyoee lbh trugst,ar nhler .eh tcbeyby thdr hrd,nr fdee t.sedoe.h ne arr msew h itheeld erhebaayoe ln thut eadsedirtb aghrnucaw hluwedor \n",
            "\n",
            "________________________________________________________________________________\n",
            "\n",
            "Run time: 1.1105434894561768\n"
          ]
        }
      ]
    }
  ]
}